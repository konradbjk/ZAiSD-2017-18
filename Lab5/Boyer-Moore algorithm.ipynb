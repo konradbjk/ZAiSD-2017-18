{
 "cells": [
  {
   "cell_type": "markdown",
   "metadata": {},
   "source": [
    "# Boyer-Moore algorithm"
   ]
  },
  {
   "cell_type": "code",
   "execution_count": 51,
   "metadata": {
    "collapsed": true
   },
   "outputs": [],
   "source": [
    "def make_bad_match_table(pattern):\n",
    "    '''Calculate the last table for pattern'''\n",
    "    length = len(pattern)\n",
    "    last = {}\n",
    "    for i, j in enumerate(pattern):\n",
    "        if i == length-1 and not j in last:\n",
    "            last[j] = length\n",
    "        else:\n",
    "            last[j] = length - i - 1\n",
    "\n",
    "    return last"
   ]
  },
  {
   "cell_type": "code",
   "execution_count": 52,
   "metadata": {
    "collapsed": true
   },
   "outputs": [],
   "source": [
    "def boyer_moore(pattern, text):\n",
    "    '''Algorithm for finding occurences of pattern in the text'''\n",
    "    match_table = []\n",
    "    pattern_length = len(pattern)\n",
    "    text_length = len(text)\n",
    "    \n",
    "    # If lane is shorter than pattern\n",
    "    if pattern_length > text_length:\n",
    "        return match_table\n",
    "\n",
    "    table = make_bad_match_table(pattern)\n",
    "    index = pattern_length - 1\n",
    "    pattern_index = pattern_length - 1\n",
    "\n",
    "    while index < text_length:\n",
    "        if pattern[pattern_index] == text[index]:\n",
    "            if pattern_index == 0:\n",
    "                match_table.append(index)\n",
    "                pattern_index = pattern_length - 1\n",
    "                index += (pattern_length * 2 - 1)\n",
    "            else:\n",
    "                pattern_index -= 1\n",
    "                index -= 1\n",
    "        else:\n",
    "            index += table.get(text[index], pattern_length)\n",
    "            pattern_index = pattern_length - 1\n",
    "\n",
    "    return match_table"
   ]
  },
  {
   "cell_type": "code",
   "execution_count": 64,
   "metadata": {
    "collapsed": true
   },
   "outputs": [],
   "source": [
    "with open('seneca.txt', 'r') as myfile:\n",
    "    text = myfile.readlines()\n",
    "    \n",
    "pattern = 'omne'"
   ]
  },
  {
   "cell_type": "code",
   "execution_count": 65,
   "metadata": {},
   "outputs": [
    {
     "name": "stdout",
     "output_type": "stream",
     "text": [
      "37\n"
     ]
    }
   ],
   "source": [
    "count = 0\n",
    "\n",
    "for line in text:\n",
    "    for word in line.split():\n",
    "        if boyer_moore(pattern, word) != []:\n",
    "            count = count + 1\n",
    "print(count)"
   ]
  },
  {
   "cell_type": "code",
   "execution_count": null,
   "metadata": {
    "collapsed": true
   },
   "outputs": [],
   "source": []
  }
 ],
 "metadata": {
  "kernelspec": {
   "display_name": "Python 3",
   "language": "python",
   "name": "python3"
  },
  "language_info": {
   "codemirror_mode": {
    "name": "ipython",
    "version": 3
   },
   "file_extension": ".py",
   "mimetype": "text/x-python",
   "name": "python",
   "nbconvert_exporter": "python",
   "pygments_lexer": "ipython3",
   "version": "3.6.1"
  }
 },
 "nbformat": 4,
 "nbformat_minor": 2
}
