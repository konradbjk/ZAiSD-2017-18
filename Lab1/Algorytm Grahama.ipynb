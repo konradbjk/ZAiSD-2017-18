{
 "cells": [
  {
   "cell_type": "markdown",
   "metadata": {},
   "source": [
    "# Graham Algorithm (Convex Hull)"
   ]
  },
  {
   "cell_type": "markdown",
   "metadata": {},
   "source": [
    "Our input data are points of plane S = {P=(P.x,P.y)}"
   ]
  },
  {
   "cell_type": "code",
   "execution_count": 1,
   "metadata": {
    "collapsed": true,
    "scrolled": true
   },
   "outputs": [],
   "source": [
    "__author__ = 'Konrad Bujak'"
   ]
  },
  {
   "cell_type": "code",
   "execution_count": 2,
   "metadata": {
    "collapsed": true,
    "scrolled": true
   },
   "outputs": [],
   "source": [
    "# Imports\n",
    "from functools import reduce"
   ]
  },
  {
   "cell_type": "markdown",
   "metadata": {},
   "source": [
    "## Importing the points"
   ]
  },
  {
   "cell_type": "code",
   "execution_count": 3,
   "metadata": {
    "collapsed": true,
    "scrolled": true
   },
   "outputs": [],
   "source": [
    "# Function that opens a file and generate from it tuples of coordinates\n",
    "def get_coordinates(filename):\n",
    "    f = open(filename)\n",
    "    lines = f.readlines()\n",
    "    lines = [item.rstrip(\"\\n\") for item in lines]\n",
    "    new_list = list()\n",
    "    for item in lines:\n",
    "            item = item.split(\",\")\n",
    "            item = tuple(float(items) for items in item)\n",
    "            new_list.append(item)                \n",
    "    f.close()\n",
    "    return new_list"
   ]
  },
  {
   "cell_type": "code",
   "execution_count": 4,
   "metadata": {
    "collapsed": true,
    "scrolled": true
   },
   "outputs": [],
   "source": [
    "# List points will store our coordinates\n",
    "points = get_coordinates(\"punktyPrzykladowe.csv\")"
   ]
  },
  {
   "cell_type": "code",
   "execution_count": 5,
   "metadata": {
    "collapsed": true,
    "scrolled": true
   },
   "outputs": [],
   "source": [
    "def convex_hull_graham(points):\n",
    "    '''\n",
    "    Returns points on convex hull in CCW order according to Graham's scan algorithm. \n",
    "    '''\n",
    "    TURN_LEFT, TURN_RIGHT, TURN_NONE = (1, -1, 0)\n",
    "\n",
    "    def cmp(foo, bar):\n",
    "        return (foo > bar) - (foo < bar)\n",
    "\n",
    "    def turn(p1, p2, p):\n",
    "        return cmp((p2[0] - p1[0])*(p[1] - p1[1]) - (p[0] - p1[0])*(p2[1] - p1[1]), 0)\n",
    "\n",
    "    def _keep_left(hull, r):\n",
    "        while len(hull) > 1 and turn(hull[-2], hull[-1], r) != TURN_LEFT:\n",
    "            hull.pop()\n",
    "        if not len(hull) or hull[-1] != r:\n",
    "            hull.append(r)\n",
    "        return hull\n",
    "\n",
    "    # Sort points to chose the min\n",
    "    points = sorted(points)\n",
    "    # Apply the function keep_left to the list of points \n",
    "    # and store it as lists (thats why 3rd parameter is[])\n",
    "    l = reduce(_keep_left, points, [])\n",
    "    u = reduce(_keep_left, reversed(points), [])\n",
    "    \n",
    "    # Delete the starting point (min(points))\n",
    "    #del l[0]\n",
    "    \n",
    "    # Add one more point to the list l or return the list\n",
    "    return l.extend(u[i] for i in range(1, len(u) - 1)) or l"
   ]
  },
  {
   "cell_type": "code",
   "execution_count": 7,
   "metadata": {
    "scrolled": true
   },
   "outputs": [],
   "source": [
    "points_hull = convex_hull_graham(points)"
   ]
  },
  {
   "cell_type": "code",
   "execution_count": 43,
   "metadata": {
    "collapsed": true,
    "scrolled": true
   },
   "outputs": [],
   "source": [
    "def is_left(side_point, starting_point, ending_point):\n",
    "    '''\n",
    "    Implementation based on the instruction\n",
    "    '''\n",
    "    x1, y1 = side_point\n",
    "    x2, y2 = starting_point\n",
    "    x, y = ending_point\n",
    "    d = (x - x1) * (y2 - y1) - (y - y1) * (x2 - x1)\n",
    "    return d < 0"
   ]
  },
  {
   "cell_type": "code",
   "execution_count": 42,
   "metadata": {},
   "outputs": [
    {
     "name": "stdout",
     "output_type": "stream",
     "text": [
      "(1.722565176536662, 68.76793728176776)\n",
      "[(1.722565176536662, 68.76793728176776), (5.7214666331244075, 134.06448155099957), (10.65339943129878, 98.85695948203514), (18.459942261153657, 82.1995251598949), (22.28994779995554, 93.88988271579822), (22.870720850111127, 105.06877141154881), (30.718251004590215, 118.0201901391825), (31.59807044587194, 89.38820546327446), (36.93711432433488, 154.03863772485442), (38.017240210251366, 107.25890066721361), (38.232695389770186, 93.00016702449155), (40.14093829158494, 80.31234243468163), (42.90840265383636, 91.94794916630826), (45.546467378618125, 106.80825428170337), (45.86410241739313, 106.33259702473887), (45.87863525331922, 20.661646399195064), (49.22746580876846, 41.00496110584578), (50.81925631013946, 127.61537733845984), (52.69814536955746, 45.64796987945456), (54.39552055432843, 109.44942011113275), (54.78497287731198, 164.81497234632374), (57.14402563258702, 88.96350081363218), (57.19857658932321, 72.41835168265371), (57.73916324766145, 65.3514635003483), (58.50138927597997, 89.14885682952881), (60.95158417840379, 152.1918327747575), (65.31185347169148, 104.211491429938), (66.54269158872691, 116.7538427326915), (67.4904872394861, 55.98587784340195), (68.0006710443424, 95.65614464912449), (70.53448554402952, 111.65563055128439), (70.82999035996673, 36.74195459029682), (71.42434986895657, 181.45441106806032), (74.54269484475721, 64.34167702439767), (76.31561204787351, 68.66954368687712), (80.0750113513772, 69.08048882365019), (81.43973667302052, 131.75271718119737), (81.80652692579348, 84.97325759245477), (82.32499915887318, 107.73667561076022), (84.06947554558786, 112.31990855976495), (85.00313551020805, 82.56338016044901), (85.45246244804277, 143.94368707554918), (85.91030237613748, 69.95352739780809), (86.01386698680696, 134.96380088115154), (86.17547770805454, 167.9324775990383), (87.40658694494908, 94.18019127393116), (88.68759007838246, 93.51018349642395), (88.93958176890418, 107.32745301232406), (89.29222281761953, 75.67545169371152), (91.8262693102248, 147.50533459713247), (92.5326073910191, 144.4124056195146), (93.01066584871076, 143.62257885968276), (94.44349383213904, 106.97183892104545), (96.507017522602, 57.17400791731987), (101.04463943965608, 130.4506683906533), (102.30774936039869, 217.20229880106086), (102.61135513622276, 92.10598401360812), (102.63379603527483, 121.35083123654843), (104.52452507598056, 70.05295010318318), (104.607265854544, 88.46759106224856), (105.44798578737816, 139.9301099917892), (106.49705715992775, 96.41833228670568), (107.94601719009627, 140.26859546285607), (108.41627645081127, 109.27822129742941), (108.97001311095681, 122.04207749660974), (109.47772284549183, 74.46201873451247), (109.99038865938508, 154.78546313896126), (110.46794552349816, 155.08981099489367), (111.37110222028636, 14.16866336034974), (112.17011397844061, 144.86449385905485), (112.58710042466055, 94.1014203219251), (112.73265716109155, 75.64163305137063), (113.09628284576081, 99.82580003140305), (114.78335000686248, 50.193880476165305), (115.16449097838168, 99.6257442702015), (117.54793198982199, 30.2226679411705), (117.95604349867773, 56.949523176891425), (118.97856204716251, 106.34749702964329), (121.36390362971935, 127.8087229192545), (123.59093778937748, 113.72968188992209), (124.3406816611861, 87.61550051421304), (124.5431524165758, 108.07739902640647), (124.71390340135622, 125.07562221904419), (127.84116594046971, 90.67737814287585), (128.3488920521396, 60.77176719985278), (128.46292551588138, 127.73303676970035), (130.63562100973124, 51.862495712178955), (131.0208951693414, 162.66874178784428), (135.47711434929695, 122.42971319046234), (135.6739547416579, 22.566532708128577), (135.90098858072588, 73.2081394259456), (137.8571360571309, 86.5693623013818), (138.35561100724067, 116.0316367582056), (138.62122855517862, 130.63287156423888), (145.62071628198686, 119.04331555278145), (146.527718068765, 111.64308371700045), (150.24864097827987, 103.886651057438), (150.80075879290408, 149.76737571351669), (158.3281343593729, 132.50566261830338), (159.59609696886366, 74.19015750169244)]\n"
     ]
    }
   ],
   "source": [
    "print(min(points))\n",
    "print(sorted(points))"
   ]
  },
  {
   "cell_type": "markdown",
   "metadata": {},
   "source": [
    "## Visualization"
   ]
  },
  {
   "cell_type": "code",
   "execution_count": 9,
   "metadata": {},
   "outputs": [],
   "source": [
    "import matplotlib\n",
    "import matplotlib.pyplot as plt"
   ]
  },
  {
   "cell_type": "code",
   "execution_count": 14,
   "metadata": {
    "collapsed": true
   },
   "outputs": [],
   "source": [
    "def display():\n",
    "        # all points\n",
    "        x = [t[0] for t in points]\n",
    "        y = [t[1] for t in points]\n",
    "        plt.plot(x, y, marker='D', linestyle='None')\n",
    "\n",
    "        # hull points\n",
    "        hx = [t[0] for t in points_hull]\n",
    "        hy = [t[1] for t in points_hull]\n",
    "        plt.plot(hx, hy)\n",
    "\n",
    "        plt.title('Convex Hull')\n",
    "        return plt.show()"
   ]
  },
  {
   "cell_type": "code",
   "execution_count": 15,
   "metadata": {},
   "outputs": [
    {
     "data": {
      "image/png": "[encoded data removed]",
      "text/plain": [
       "<matplotlib.figure.Figure at 0x10d5dfe10>"
      ]
     },
     "metadata": {},
     "output_type": "display_data"
    }
   ],
   "source": [
    "display()"
   ]
  },
  {
   "cell_type": "code",
   "execution_count": null,
   "metadata": {
    "collapsed": true
   },
   "outputs": [],
   "source": []
  }
 ],
 "metadata": {
  "kernelspec": {
   "display_name": "Python 3",
   "language": "python",
   "name": "python3"
  },
  "language_info": {
   "codemirror_mode": {
    "name": "ipython",
    "version": 3
   },
   "file_extension": ".py",
   "mimetype": "text/x-python",
   "name": "python",
   "nbconvert_exporter": "python",
   "pygments_lexer": "ipython3",
   "version": "3.6.1"
  }
 },
 "nbformat": 4,
 "nbformat_minor": 2
}
