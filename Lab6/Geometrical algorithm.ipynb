{
 "cells": [
  {
   "cell_type": "markdown",
   "metadata": {},
   "source": [
    "# Geometical algorithm\n",
    "Algorithm to calculate distance between two solids"
   ]
  },
  {
   "cell_type": "markdown",
   "metadata": {},
   "source": [
    "### Imports and constant values used"
   ]
  },
  {
   "cell_type": "code",
   "execution_count": 1,
   "metadata": {
    "collapsed": true
   },
   "outputs": [],
   "source": [
    "import math\n",
    "from functools import lru_cache\n",
    "import numpy as np\n",
    "from multiprocessing import Pool, cpu_count\n",
    "import timeit"
   ]
  },
  {
   "cell_type": "code",
   "execution_count": 2,
   "metadata": {
    "collapsed": true
   },
   "outputs": [],
   "source": [
    "CACHE_SIZE = 20000\n",
    "PARALLEL_TOLERANCE = 1e-16"
   ]
  },
  {
   "cell_type": "markdown",
   "metadata": {},
   "source": [
    "### Implemented Classes"
   ]
  },
  {
   "cell_type": "code",
   "execution_count": 3,
   "metadata": {
    "collapsed": true
   },
   "outputs": [],
   "source": [
    "# Idnetify the point, so that it has 3 coordinates\n",
    "class Point:\n",
    "    def __init__(self, x, y, z):\n",
    "        self._x = x\n",
    "        self._y = y\n",
    "        self._z = z\n",
    "        self._hashcode = hash((x, y, z))\n",
    "\n",
    "    def get_coordinates(self):\n",
    "        return self._x, self._y, self._z\n",
    "\n",
    "    def __str__(self):\n",
    "        return str(self.get_coordinates())\n",
    "\n",
    "    def x(self):\n",
    "        return self._x\n",
    "\n",
    "    def y(self):\n",
    "        return self._y\n",
    "\n",
    "    def z(self):\n",
    "        return self._z\n",
    "\n",
    "    def __hash__(self):\n",
    "        return self._hashcode"
   ]
  },
  {
   "cell_type": "code",
   "execution_count": 4,
   "metadata": {
    "collapsed": true
   },
   "outputs": [],
   "source": [
    "# Define edge of solid\n",
    "class Edge:\n",
    "    def __init__(self, point1, point2):\n",
    "        self._point1 = point1\n",
    "        self._point2 = point2\n",
    "        self._hash = hash((point1, point2))\n",
    "\n",
    "    def get_points(self):\n",
    "        return [self._point1, self._point2]\n",
    "\n",
    "    def __hash__(self):\n",
    "        return self._hash"
   ]
  },
  {
   "cell_type": "code",
   "execution_count": 15,
   "metadata": {
    "collapsed": true
   },
   "outputs": [],
   "source": [
    "# Define solid\n",
    "class Solid:\n",
    "    def __init__(self, faces):\n",
    "        self._faces = faces\n",
    "        self._hashcode = hash(tuple(faces))\n",
    "        self._bounding_box = create_bounding_box(self)\n",
    "\n",
    "\n",
    "    def get_faces(self):\n",
    "        return self._faces\n",
    "\n",
    "    def __hash__(self):\n",
    "        return self._hashcode"
   ]
  },
  {
   "cell_type": "code",
   "execution_count": 6,
   "metadata": {
    "collapsed": true
   },
   "outputs": [],
   "source": [
    "class BoundingBox:\n",
    "    def __init__(self, minx, maxx, miny, maxy, minz, maxz):\n",
    "        self._min_x = minx\n",
    "        self._max_x = maxx\n",
    "        self._min_y = miny\n",
    "        self._max_y = maxy\n",
    "        self._min_z = minz\n",
    "        self._max_z = maxz"
   ]
  },
  {
   "cell_type": "code",
   "execution_count": 7,
   "metadata": {
    "collapsed": true
   },
   "outputs": [],
   "source": [
    "class Face:\n",
    "    def __init__(self, point1, point2, point3):\n",
    "        self._point1 = point1\n",
    "        self._point2 = point2\n",
    "        self._point3 = point3\n",
    "        self._hashcode = hash((point1, point2, point3))\n",
    "        self._plane_equation = self._compute_plane_equation()\n",
    "\n",
    "    def get_points(self):\n",
    "        return [self._point1, self._point2, self._point3]\n",
    "\n",
    "    def get_edges(self):\n",
    "        return [Edge(self._point1, self._point2), Edge(self._point1, self._point3), Edge(self._point2, self._point3)]\n",
    "\n",
    "    def get_plane_equation(self):\n",
    "        return self._plane_equation\n",
    "\n",
    "    def _compute_plane_equation(self):\n",
    "        x1, y1, z1 = self._point1.get_coordinates()\n",
    "        x2, y2, z2 = self._point2.get_coordinates()\n",
    "        x3, y3, z3 = self._point3.get_coordinates()\n",
    "    # Instead of calculating those equations I placed the answears\n",
    "        alpha = (-y1 * z2 + y1 * z3 + y2 * z1 - y2 * z3 - y3 * z1 + y3 * z2) * math.sqrt(1 / (\n",
    "            x1 ** 2 * y2 ** 2 - 2 * x1 ** 2 * y2 * y3 + x1 ** 2 * y3 ** 2 + x1 ** 2 * z2 ** 2\n",
    "            - 2 * x1 ** 2 * z2 * z3 + x1 ** 2 * z3 ** 2\n",
    "            - 2 * x1 * x2 * y1 * y2 + 2 * x1 * x2 * y1 * y3 + 2 * x1 * x2 * y2 * y3 - 2 * x1 * x2 * y3 ** 2\n",
    "            - 2 * x1 * x2 * z1 * z2\n",
    "            + 2 * x1 * x2 * z1 * z3 + 2 * x1 * x2 * z2 * z3 - 2 * x1 * x2 * z3 ** 2 + 2 * x1 * x3 * y1 * y2\n",
    "            - 2 * x1 * x3 * y1 * y3\n",
    "            - 2 * x1 * x3 * y2 ** 2 + 2 * x1 * x3 * y2 * y3 + 2 * x1 * x3 * z1 * z2 - 2 * x1 * x3 * z1 * z3\n",
    "            - 2 * x1 * x3 * z2 ** 2\n",
    "            + 2 * x1 * x3 * z2 * z3 + x2 ** 2 * y1 ** 2 - 2 * x2 ** 2 * y1 * y3\n",
    "            + x2 ** 2 * y3 ** 2 + x2 ** 2 * z1 ** 2 - 2 * x2 ** 2 * z1 * z3\n",
    "            + x2 ** 2 * z3 ** 2 - 2 * x2 * x3 * y1 ** 2 + 2 * x2 * x3 * y1 * y2 + 2 * x2 * x3 * y1 * y3\n",
    "            - 2 * x2 * x3 * y2 * y3 - 2 * x2 * x3 * z1 ** 2\n",
    "            + 2 * x2 * x3 * z1 * z2 + 2 * x2 * x3 * z1 * z3 - 2 * x2 * x3 * z2 * z3\n",
    "            + x3 ** 2 * y1 ** 2 - 2 * x3 ** 2 * y1 * y2 + x3 ** 2 * y2 ** 2\n",
    "            + x3 ** 2 * z1 ** 2 - 2 * x3 ** 2 * z1 * z2 + x3 ** 2 * z2 ** 2 + y1 ** 2 * z2 ** 2\n",
    "            - 2 * y1 ** 2 * z2 * z3 + y1 ** 2 * z3 ** 2\n",
    "            - 2 * y1 * y2 * z1 * z2 + 2 * y1 * y2 * z1 * z3 + 2 * y1 * y2 * z2 * z3\n",
    "            - 2 * y1 * y2 * z3 ** 2 + 2 * y1 * y3 * z1 * z2 - 2 * y1 * y3 * z1 * z3\n",
    "            - 2 * y1 * y3 * z2 ** 2 + 2 * y1 * y3 * z2 * z3 + y2 ** 2 * z1 ** 2\n",
    "            - 2 * y2 ** 2 * z1 * z3 + y2 ** 2 * z3 ** 2 - 2 * y2 * y3 * z1 ** 2\n",
    "            + 2 * y2 * y3 * z1 * z2 + 2 * y2 * y3 * z1 * z3 - 2 * y2 * y3 * z2 * z3\n",
    "            + y3 ** 2 * z1 ** 2 - 2 * y3 ** 2 * z1 * z2 + y3 ** 2 * z2 ** 2))\n",
    "\n",
    "        beta = (x1 * z2 - x1 * z3 - x2 * z1 + x2 * z3 + x3 * z1 - x3 * z2) * math.sqrt(1 / (\n",
    "            x1 ** 2 * y2 ** 2 - 2 * x1 ** 2 * y2 * y3 + x1 ** 2 * y3 ** 2\n",
    "            + x1 ** 2 * z2 ** 2 - 2 * x1 ** 2 * z2 * z3 + x1 ** 2 * z3 ** 2\n",
    "            - 2 * x1 * x2 * y1 * y2 + 2 * x1 * x2 * y1 * y3 + 2 * x1 * x2 * y2 * y3\n",
    "            - 2 * x1 * x2 * y3 ** 2 - 2 * x1 * x2 * z1 * z2\n",
    "            + 2 * x1 * x2 * z1 * z3 + 2 * x1 * x2 * z2 * z3\n",
    "            - 2 * x1 * x2 * z3 ** 2 + 2 * x1 * x3 * y1 * y2 - 2 * x1 * x3 * y1 * y3\n",
    "            - 2 * x1 * x3 * y2 ** 2 + 2 * x1 * x3 * y2 * y3\n",
    "            + 2 * x1 * x3 * z1 * z2 - 2 * x1 * x3 * z1 * z3 - 2 * x1 * x3 * z2 ** 2\n",
    "            + 2 * x1 * x3 * z2 * z3 + x2 ** 2 * y1 ** 2 - 2 * x2 ** 2 * y1 * y3\n",
    "            + x2 ** 2 * y3 ** 2 + x2 ** 2 * z1 ** 2 - 2 * x2 ** 2 * z1 * z3 + x2 ** 2 * z3 ** 2\n",
    "            - 2 * x2 * x3 * y1 ** 2 + 2 * x2 * x3 * y1 * y2 + 2 * x2 * x3 * y1 * y3\n",
    "            - 2 * x2 * x3 * y2 * y3 - 2 * x2 * x3 * z1 ** 2\n",
    "            + 2 * x2 * x3 * z1 * z2 + 2 * x2 * x3 * z1 * z3\n",
    "            - 2 * x2 * x3 * z2 * z3 + x3 ** 2 * y1 ** 2 - 2 * x3 ** 2 * y1 * y2\n",
    "            + x3 ** 2 * y2 ** 2 + x3 ** 2 * z1 ** 2 - 2 * x3 ** 2 * z1 * z2 + x3 ** 2 * z2 ** 2 + y1 ** 2 * z2 ** 2\n",
    "            - 2 * y1 ** 2 * z2 * z3\n",
    "            + y1 ** 2 * z3 ** 2 - 2 * y1 * y2 * z1 * z2 + 2 * y1 * y2 * z1 * z3\n",
    "            + 2 * y1 * y2 * z2 * z3 - 2 * y1 * y2 * z3 ** 2 + 2 * y1 * y3 * z1 * z2\n",
    "            - 2 * y1 * y3 * z1 * z3 - 2 * y1 * y3 * z2 ** 2 + 2 * y1 * y3 * z2 * z3 + y2 ** 2 * z1 ** 2\n",
    "            - 2 * y2 ** 2 * z1 * z3 + y2 ** 2 * z3 ** 2\n",
    "            - 2 * y2 * y3 * z1 ** 2 + 2 * y2 * y3 * z1 * z2 + 2 * y2 * y3 * z1 * z3\n",
    "            - 2 * y2 * y3 * z2 * z3 + y3 ** 2 * z1 ** 2 - 2 * y3 ** 2 * z1 * z2 + y3 ** 2 * z2 ** 2))\n",
    "\n",
    "        gamma = (-x1 * y2 + x1 * y3 + x2 * y1 - x2 * y3 - x3 * y1 + x3 * y2) * math.sqrt(1 / (\n",
    "            x1 ** 2 * y2 ** 2 - 2 * x1 ** 2 * y2 * y3 + x1 ** 2 * y3 ** 2\n",
    "            + x1 ** 2 * z2 ** 2 - 2 * x1 ** 2 * z2 * z3 + x1 ** 2 * z3 ** 2\n",
    "            - 2 * x1 * x2 * y1 * y2 + 2 * x1 * x2 * y1 * y3 + 2 * x1 * x2 * y2 * y3\n",
    "            - 2 * x1 * x2 * y3 ** 2 - 2 * x1 * x2 * z1 * z2\n",
    "            + 2 * x1 * x2 * z1 * z3 + 2 * x1 * x2 * z2 * z3 - 2 * x1 * x2 * z3 ** 2\n",
    "            + 2 * x1 * x3 * y1 * y2 - 2 * x1 * x3 * y1 * y3\n",
    "            - 2 * x1 * x3 * y2 ** 2 + 2 * x1 * x3 * y2 * y3\n",
    "            + 2 * x1 * x3 * z1 * z2 - 2 * x1 * x3 * z1 * z3 - 2 * x1 * x3 * z2 ** 2\n",
    "            + 2 * x1 * x3 * z2 * z3 + x2 ** 2 * y1 ** 2 - 2 * x2 ** 2 * y1 * y3 + x2 ** 2 * y3 ** 2 + x2 ** 2 * z1 ** 2\n",
    "            - 2 * x2 ** 2 * z1 * z3 + x2 ** 2 * z3 ** 2\n",
    "            - 2 * x2 * x3 * y1 ** 2 + 2 * x2 * x3 * y1 * y2 + 2 * x2 * x3 * y1 * y3\n",
    "            - 2 * x2 * x3 * y2 * y3 - 2 * x2 * x3 * z1 ** 2\n",
    "            + 2 * x2 * x3 * z1 * z2 + 2 * x2 * x3 * z1 * z3 - 2 * x2 * x3 * z2 * z3\n",
    "            + x3 ** 2 * y1 ** 2 - 2 * x3 ** 2 * y1 * y2\n",
    "            + x3 ** 2 * y2 ** 2 + x3 ** 2 * z1 ** 2 - 2 * x3 ** 2 * z1 * z2\n",
    "            + x3 ** 2 * z2 ** 2 + y1 ** 2 * z2 ** 2 - 2 * y1 ** 2 * z2 * z3 + y1 ** 2 * z3 ** 2 - 2 * y1 * y2 * z1 * z2\n",
    "            + 2 * y1 * y2 * z1 * z3 + 2 * y1 * y2 * z2 * z3 - 2 * y1 * y2 * z3 ** 2 + 2 * y1 * y3 * z1 * z2\n",
    "            - 2 * y1 * y3 * z1 * z3 - 2 * y1 * y3 * z2 ** 2\n",
    "            + 2 * y1 * y3 * z2 * z3 + y2 ** 2 * z1 ** 2 - 2 * y2 ** 2 * z1 * z3\n",
    "            + y2 ** 2 * z3 ** 2 - 2 * y2 * y3 * z1 ** 2\n",
    "            + 2 * y2 * y3 * z1 * z2 + 2 * y2 * y3 * z1 * z3 - 2 * y2 * y3 * z2 * z3\n",
    "            + y3 ** 2 * z1 ** 2 - 2 * y3 ** 2 * z1 * z2 + y3 ** 2 * z2 ** 2))\n",
    "\n",
    "        delta = (x1 * y2 * z3 - x1 * y3 * z2 - x2 * y1 * z3 + x2 * y3 * z1 + x3 * y1 * z2 - x3 * y2 * z1) * math.sqrt(\n",
    "            1 / (\n",
    "                x1 ** 2 * y2 ** 2 - 2 * x1 ** 2 * y2 * y3 + x1 ** 2 * y3 ** 2\n",
    "                + x1 ** 2 * z2 ** 2 - 2 * x1 ** 2 * z2 * z3 + x1 ** 2 * z3 ** 2\n",
    "                - 2 * x1 * x2 * y1 * y2 + 2 * x1 * x2 * y1 * y3 + 2 * x1 * x2 * y2 * y3\n",
    "                - 2 * x1 * x2 * y3 ** 2 - 2 * x1 * x2 * z1 * z2\n",
    "                + 2 * x1 * x2 * z1 * z3 + 2 * x1 * x2 * z2 * z3 - 2 * x1 * x2 * z3 ** 2\n",
    "                + 2 * x1 * x3 * y1 * y2 - 2 * x1 * x3 * y1 * y3\n",
    "                - 2 * x1 * x3 * y2 ** 2 + 2 * x1 * x3 * y2 * y3 + 2 * x1 * x3 * z1 * z2\n",
    "                - 2 * x1 * x3 * z1 * z3 - 2 * x1 * x3 * z2 ** 2\n",
    "                + 2 * x1 * x3 * z2 * z3 + x2 ** 2 * y1 ** 2 - 2 * x2 ** 2 * y1 * y3\n",
    "                + x2 ** 2 * y3 ** 2 + x2 ** 2 * z1 ** 2\n",
    "                - 2 * x2 ** 2 * z1 * z3 + x2 ** 2 * z3 ** 2 - 2 * x2 * x3 * y1 ** 2 + 2 * x2 * x3 * y1 * y2\n",
    "                + 2 * x2 * x3 * y1 * y3 - 2 * x2 * x3 * y2 * y3 - 2 * x2 * x3 * z1 ** 2 + 2 * x2 * x3 * z1 * z2\n",
    "                + 2 * x2 * x3 * z1 * z3 - 2 * x2 * x3 * z2 * z3\n",
    "                + x3 ** 2 * y1 ** 2 - 2 * x3 ** 2 * y1 * y2 + x3 ** 2 * y2 ** 2\n",
    "                + x3 ** 2 * z1 ** 2 - 2 * x3 ** 2 * z1 * z2\n",
    "                + x3 ** 2 * z2 ** 2 + y1 ** 2 * z2 ** 2 - 2 * y1 ** 2 * z2 * z3\n",
    "                + y1 ** 2 * z3 ** 2 - 2 * y1 * y2 * z1 * z2 + 2 * y1 * y2 * z1 * z3\n",
    "                + 2 * y1 * y2 * z2 * z3 - 2 * y1 * y2 * z3 ** 2\n",
    "                + 2 * y1 * y3 * z1 * z2 - 2 * y1 * y3 * z1 * z3\n",
    "                - 2 * y1 * y3 * z2 ** 2 + 2 * y1 * y3 * z2 * z3 + y2 ** 2 * z1 ** 2\n",
    "                - 2 * y2 ** 2 * z1 * z3 + y2 ** 2 * z3 ** 2 - 2 * y2 * y3 * z1 ** 2 + 2 * y2 * y3 * z1 * z2\n",
    "                + 2 * y2 * y3 * z1 * z3 - 2 * y2 * y3 * z2 * z3\n",
    "                + y3 ** 2 * z1 ** 2 - 2 * y3 ** 2 * z1 * z2 + y3 ** 2 * z2 ** 2))\n",
    "\n",
    "        return alpha, beta, gamma, delta\n",
    "\n",
    "    def __hash__(self):\n",
    "        return self._hashcode"
   ]
  },
  {
   "cell_type": "markdown",
   "metadata": {},
   "source": [
    "### Used functions"
   ]
  },
  {
   "cell_type": "code",
   "execution_count": 8,
   "metadata": {
    "collapsed": true
   },
   "outputs": [],
   "source": [
    "def distance_between_face_and_solid(face, solid):\n",
    "    '''Returns distance value between face and solid'''\n",
    "    return min(map(lambda face1: distance_between_faces(face, face1), solid.get_faces()))"
   ]
  },
  {
   "cell_type": "code",
   "execution_count": 22,
   "metadata": {
    "collapsed": true
   },
   "outputs": [],
   "source": [
    "def distance_between_solids(solid1, solid2):\n",
    "    '''Calculates distances between given 2 solids'''\n",
    "    cpus = cpu_count() + 1\n",
    "\n",
    "    solid1, solid2 = (solid2, solid1) if len(solid1.get_faces()) < len(solid2.get_faces()) else (solid1, solid2)\n",
    "\n",
    "    with Pool(processes=cpus) as worker:\n",
    "        tasks = []\n",
    "        for face1 in solid1.get_faces():\n",
    "            task1 = worker.apply_async(distance_between_face_and_solid, (face1, solid2))\n",
    "            tasks.append(task1)\n",
    "        print(\"Using \",cpus, \" threads\")\n",
    "        return min(map(lambda task: task.get(), tasks))"
   ]
  },
  {
   "cell_type": "code",
   "execution_count": 10,
   "metadata": {
    "collapsed": true
   },
   "outputs": [],
   "source": [
    "def create_bounding_box(solid):\n",
    "    '''Creates bounding boxes using solid as parameter'''\n",
    "    min_x = min(map(lambda face: min(map(lambda point: point.x(), face.get_points())), solid.get_faces()))\n",
    "    min_y = min(map(lambda face: min(map(lambda point: point.y(), face.get_points())), solid.get_faces()))\n",
    "    min_z = min(map(lambda face: min(map(lambda point: point.z(), face.get_points())), solid.get_faces()))\n",
    "\n",
    "    max_x = max(map(lambda face: max(map(lambda point: point.x(), face.get_points())), solid.get_faces()))\n",
    "    max_y = max(map(lambda face: max(map(lambda point: point.y(), face.get_points())), solid.get_faces()))\n",
    "    max_z = max(map(lambda face: max(map(lambda point: point.z(), face.get_points())), solid.get_faces()))\n",
    "\n",
    "    return BoundingBox(min_x, max_x, min_y, max_y, min_z, max_z)"
   ]
  },
  {
   "cell_type": "code",
   "execution_count": 11,
   "metadata": {
    "collapsed": true
   },
   "outputs": [],
   "source": [
    "def load_solid(file_name):\n",
    "    '''Loading solid from the file. Each solid should has its own files'''\n",
    "    points = []\n",
    "\n",
    "    with open(file_name, \"r\", encoding=\"utf-8\") as solid_file:\n",
    "        for line in solid_file:\n",
    "            if len(line.strip()) == 0:\n",
    "                continue\n",
    "            else:\n",
    "                x, y, z = tuple(map(lambda num: float(num.strip()), line.split(\";\")))\n",
    "                points.append(Point(x, y, z))\n",
    "    if len(points) % 3 != 0:\n",
    "        raise Exception\n",
    "    else:\n",
    "        def chunks(l, n):\n",
    "            for i in range(0, len(l), n):\n",
    "                yield tuple(l[i:i + n])\n",
    "\n",
    "        points_per_face = list(chunks(points, 3))\n",
    "        faces = []\n",
    "        for points in points_per_face:\n",
    "            p1, p2, p3 = points\n",
    "            face = Face(p1, p2, p3)\n",
    "            faces.append(face)\n",
    "        return Solid(faces)"
   ]
  },
  {
   "cell_type": "code",
   "execution_count": 12,
   "metadata": {
    "collapsed": true
   },
   "outputs": [],
   "source": [
    "@lru_cache(maxsize=CACHE_SIZE)\n",
    "def distance_between_points(point1, point2):\n",
    "    coordinates1 = np.asarray(point1.get_coordinates())\n",
    "    coordinates2 = np.asarray(point2.get_coordinates())\n",
    "    return np.sqrt(np.sum((coordinates1 - coordinates2) ** 2))\n",
    "\n",
    "\n",
    "@lru_cache(maxsize=CACHE_SIZE)\n",
    "def distance_between_face_and_point(face, point):\n",
    "    alpha, beta, gamma, delta = face.get_plane_equation()\n",
    "    x, y, z = point.get_coordinates()\n",
    "    c = -(alpha * x + beta * y + delta + gamma * z) / (alpha ** 2 + beta ** 2 + gamma ** 2)\n",
    "    nearest_point = Point(x + alpha * c, y + beta * c, z + gamma * c)\n",
    "\n",
    "    if point_belongs_to_face(nearest_point, face):\n",
    "        return distance_between_points(nearest_point, point)\n",
    "    else:\n",
    "        vertex_a, vertex_b, vertex_c = face.get_points()\n",
    "        edges = [Edge(vertex_a, vertex_b), Edge(vertex_a, vertex_c), Edge(vertex_b, vertex_c)]\n",
    "        return min(map(lambda edge: distance_between_edge_and_point(edge, point), edges))\n",
    "\n",
    "\n",
    "@lru_cache(maxsize=CACHE_SIZE)\n",
    "def point_belongs_to_face(point, face):\n",
    "    px, py, pz = point.get_coordinates()\n",
    "    ax, ay, az = face.get_points()[0].get_coordinates()\n",
    "    bx, by, bz = face.get_points()[1].get_coordinates()\n",
    "    cx, cy, cz = face.get_points()[2].get_coordinates()\n",
    "\n",
    "    x = math.nan\n",
    "    y = math.nan\n",
    "\n",
    "    if ((ax - cx) * (by - cy) - (ay - cy) * (bx - cx)) != 0 and ((ax - cx) * (by - cy) - (ay - cy) * (bx - cx)) != 0:\n",
    "\n",
    "        x = ((bx - cx) * (cy - py) - (by - cy) * (cx - px)) / ((ax - cx) * (by - cy) - (ay - cy) * (bx - cx))\n",
    "        y = (-(ax - cx) * (cy - py) + (ay - cy) * (cx - px)) / ((ax - cx) * (by - cy) - (ay - cy) * (bx - cx))\n",
    "\n",
    "    elif (math.isnan(x) or math.isnan(y)) and ((ax - cx) * (bz - cz) - (az - cz) * (bx - cx)) != 0 and (\n",
    "                    (ax - cx) * (bz - cz) - (az - cz) * (bx - cx)) != 0:\n",
    "\n",
    "        x = ((bx - cx) * (cz - pz) - (bz - cz) * (cx - px)) / ((ax - cx) * (bz - cz) - (az - cz) * (bx - cx))\n",
    "        y = (-(ax - cx) * (cz - pz) + (az - cz) * (cx - px)) / ((ax - cx) * (bz - cz) - (az - cz) * (bx - cx))\n",
    "\n",
    "    elif (math.isnan(x) or math.isnan(y)) and ((ay - cy) * (bz - cz) - (az - cz) * (by - cy)) != 0 and (\n",
    "                    (ay - cy) * (bz - cz) - (az - cz) * (by - cy)) != 0:\n",
    "\n",
    "        x = ((by - cy) * (cz - pz) - (bz - cz) * (cy - py)) / ((ay - cy) * (bz - cz) - (az - cz) * (by - cy))\n",
    "        y = (-(ay - cy) * (cz - pz) + (az - cz) * (cy - py)) / ((ay - cy) * (bz - cz) - (az - cz) * (by - cy))\n",
    "\n",
    "    return not math.isnan(x) and not math.isnan(y) and x >= 0 and y >= 0 and x + y <= 1\n",
    "\n",
    "\n",
    "@lru_cache(maxsize=CACHE_SIZE)\n",
    "def distance_between_edge_and_point(edge, point):\n",
    "    point1, point2 = tuple(edge.get_points())\n",
    "    v_vector = np.asarray(point2.get_coordinates()) - np.asarray(point1.get_coordinates())\n",
    "    w_vector = np.asarray(point.get_coordinates()) - np.asarray(point1.get_coordinates())\n",
    "\n",
    "    c1 = np.dot(w_vector, v_vector)\n",
    "    if c1 <= 0:\n",
    "        return distance_between_points(point, point1)\n",
    "\n",
    "    c2 = np.dot(v_vector, v_vector)\n",
    "    if c2 <= c1:\n",
    "        return distance_between_points(point, point2)\n",
    "\n",
    "    b = c1 / c2\n",
    "    nearest_point_coords = np.asarray(point1.get_coordinates()) + b * v_vector\n",
    "    nearest_point = Point(nearest_point_coords[0], nearest_point_coords[1], nearest_point_coords[2])\n",
    "    return distance_between_points(point, nearest_point)\n",
    "\n",
    "\n",
    "@lru_cache(maxsize=CACHE_SIZE)\n",
    "def distance_between_edges(edge1, edge2):\n",
    "    vector_u = np.asarray(edge1.get_points()[1].get_coordinates()) - np.asarray(edge1.get_points()[0].get_coordinates())\n",
    "    vector_v = np.asarray(edge2.get_points()[1].get_coordinates()) - np.asarray(edge2.get_points()[0].get_coordinates())\n",
    "    vector_w = np.asarray(edge1.get_points()[0].get_coordinates()) - np.asarray(edge2.get_points()[0].get_coordinates())\n",
    "    a = np.dot(vector_u, vector_u)\n",
    "    b = np.dot(vector_u, vector_v)\n",
    "    c = np.dot(vector_v, vector_v)\n",
    "    d = np.dot(vector_u, vector_w)\n",
    "    e = np.dot(vector_v, vector_w)\n",
    "    D = a * c - b * b\n",
    "    sc, sN, sD = D, D, D\n",
    "    tc, tN, tD = D, D, D\n",
    "\n",
    "    if D < PARALLEL_TOLERANCE:\n",
    "        sN = 0\n",
    "        sD = 1\n",
    "        tN = e\n",
    "        tD = c\n",
    "    else:\n",
    "        sN = b * e - c * d\n",
    "        tN = a * e - b * d\n",
    "        if sN < 0:\n",
    "            sN = 0\n",
    "            tN = e\n",
    "            tD = c\n",
    "        elif sN > sD:\n",
    "            sN = sD\n",
    "            tN = e + b\n",
    "            tD = c\n",
    "\n",
    "    if tN < 0:\n",
    "        tN = 0\n",
    "        if -d < 0:\n",
    "            sN = 0\n",
    "        elif -d > a:\n",
    "            sN = sD\n",
    "        else:\n",
    "            sN = -d\n",
    "            sD = a\n",
    "    elif tN > tD:\n",
    "        tN = tD\n",
    "        if -d + b < 0:\n",
    "            sN = 0\n",
    "        elif -d + b > a:\n",
    "            sN = sD\n",
    "        else:\n",
    "            sN = -d + b\n",
    "            sD = a\n",
    "\n",
    "    sc = 0 if math.fabs(sN) < PARALLEL_TOLERANCE else sN / sD\n",
    "    tc = 0 if math.fabs(tN) < PARALLEL_TOLERANCE else tN / tD\n",
    "\n",
    "    vector_dp = vector_w + (sc * vector_u) - (tc * vector_v)\n",
    "    return math.sqrt(np.dot(vector_dp, vector_dp))\n",
    "\n",
    "\n",
    "@lru_cache(maxsize=CACHE_SIZE)\n",
    "def distance_between_face_and_edge(face, edge):\n",
    "    distances = set()\n",
    "\n",
    "    edge_points = edge.get_points()\n",
    "    for edge_point in edge_points:\n",
    "        distances.add(distance_between_face_and_point(face, edge_point))\n",
    "\n",
    "    face_edges = face.get_edges()\n",
    "    for face_edge in face_edges:\n",
    "        distances.add(distance_between_edges(face_edge, edge))\n",
    "\n",
    "    return min(distances)\n",
    "\n",
    "\n",
    "@lru_cache(maxsize=CACHE_SIZE)\n",
    "def distance_between_faces(face1, face2):\n",
    "    distances = set()\n",
    "\n",
    "    for face_edge in face1.get_edges():\n",
    "        distances.add(distance_between_face_and_edge(face2, face_edge))\n",
    "\n",
    "    for face_edge in face2.get_edges():\n",
    "        distances.add(distance_between_face_and_edge(face1, face_edge))\n",
    "\n",
    "    return min(distances)"
   ]
  },
  {
   "cell_type": "markdown",
   "metadata": {},
   "source": [
    "### Distance between solids"
   ]
  },
  {
   "cell_type": "code",
   "execution_count": 23,
   "metadata": {},
   "outputs": [
    {
     "name": "stdout",
     "output_type": "stream",
     "text": [
      "Using  5  threads\n",
      "Distance between solids:  8.766524054606819\n",
      "Tme used to calculate:  8.272732851997716\n"
     ]
    }
   ],
   "source": [
    "solid1 = load_solid(\"solid_data_1\")\n",
    "solid2 = load_solid(\"solid_data_2\")\n",
    "start_time_solid = timeit.default_timer()\n",
    "distance_solid = distance_between_solids(solid2, solid1)\n",
    "elapsed_time_solid = timeit.default_timer() - start_time_solid\n",
    "print(\"Distance between solids: \", distance_solid)\n",
    "print(\"Tme used to calculate: \", elapsed_time_solid)\n",
    "# time with Cache Size 20k 7.45 sek\n",
    "# time with Cache Size 10k 7.97 sek\n",
    "# time without Cache 10.4 sek"
   ]
  },
  {
   "cell_type": "markdown",
   "metadata": {},
   "source": [
    "### Distance between faces"
   ]
  },
  {
   "cell_type": "code",
   "execution_count": 24,
   "metadata": {},
   "outputs": [
    {
     "name": "stdout",
     "output_type": "stream",
     "text": [
      "Distance between faces =  0.13\n",
      "Tme used to calculate:  0.005434362996311393\n"
     ]
    }
   ],
   "source": [
    "# face 1:\n",
    "p1 = Point(1, 0, 0)\n",
    "p2 = Point(0, 1, 0)\n",
    "p3 = Point(0, 0, 0)\n",
    "\n",
    "# face 2:\n",
    "p4 = Point(100, 0, 0.13)\n",
    "p5 = Point(0, 100, 0.13)\n",
    "p6 = Point(-100, -100, 0.13)\n",
    "\n",
    "face2 = Face(p4, p5, p6)\n",
    "face1 = Face(p1, p2, p3)\n",
    "\n",
    "start_time_face = timeit.default_timer()\n",
    "distance_face = distance_between_faces(face1, face2)\n",
    "elapsed_time_face = timeit.default_timer() - start_time_face\n",
    "\n",
    "print(\"Distance between faces = \", distance_face)\n",
    "print(\"Tme used to calculate: \", elapsed_time_face)"
   ]
  },
  {
   "cell_type": "code",
   "execution_count": null,
   "metadata": {
    "collapsed": true
   },
   "outputs": [],
   "source": []
  }
 ],
 "metadata": {
  "kernelspec": {
   "display_name": "Python 3",
   "language": "python",
   "name": "python3"
  },
  "language_info": {
   "codemirror_mode": {
    "name": "ipython",
    "version": 3
   },
   "file_extension": ".py",
   "mimetype": "text/x-python",
   "name": "python",
   "nbconvert_exporter": "python",
   "pygments_lexer": "ipython3",
   "version": "3.6.1"
  }
 },
 "nbformat": 4,
 "nbformat_minor": 2
}
