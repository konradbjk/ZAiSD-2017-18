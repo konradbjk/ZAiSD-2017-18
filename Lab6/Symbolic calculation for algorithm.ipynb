{
 "cells": [
  {
   "cell_type": "code",
   "execution_count": 19,
   "metadata": {
    "collapsed": true
   },
   "outputs": [],
   "source": [
    "import math\n",
    "from sympy import Symbol\n",
    "from functools import lru_cache\n",
    "from sympy.solvers import solve\n",
    "import numpy as np\n",
    "from scipy.optimize import minimize\n",
    "from multiprocessing import Pool, cpu_count\n",
    "import timeit"
   ]
  },
  {
   "cell_type": "code",
   "execution_count": 12,
   "metadata": {
    "collapsed": true
   },
   "outputs": [],
   "source": [
    "CACHE_SIZE = 1000\n",
    "PARALLEL_TOLERANCE = 1e-16"
   ]
  },
  {
   "cell_type": "code",
   "execution_count": 13,
   "metadata": {
    "collapsed": true
   },
   "outputs": [],
   "source": [
    "class Point:\n",
    "    def __init__(self, x, y, z):\n",
    "        self._x = x\n",
    "        self._y = y\n",
    "        self._z = z\n",
    "        self._hashcode = hash((x, y, z))\n",
    "\n",
    "    def get_coordinates(self):\n",
    "        return self._x, self._y, self._z\n",
    "\n",
    "    def __str__(self):\n",
    "        return str(self.get_coordinates())\n",
    "\n",
    "    def x(self):\n",
    "        return self._x\n",
    "\n",
    "    def y(self):\n",
    "        return self._y\n",
    "\n",
    "    def z(self):\n",
    "        return self._z\n",
    "\n",
    "    def __hash__(self):\n",
    "        return self._hashcode\n"
   ]
  },
  {
   "cell_type": "code",
   "execution_count": 16,
   "metadata": {
    "collapsed": true
   },
   "outputs": [],
   "source": [
    "class Edge:\n",
    "    def __init__(self, point1, point2):\n",
    "        self._point1 = point1\n",
    "        self._point2 = point2\n",
    "        self._hash = hash((point1, point2))\n",
    "\n",
    "    def get_points(self):\n",
    "        return [self._point1, self._point2]\n",
    "\n",
    "    def __hash__(self):\n",
    "        return self._hash"
   ]
  },
  {
   "cell_type": "code",
   "execution_count": 15,
   "metadata": {
    "collapsed": true
   },
   "outputs": [],
   "source": [
    "class Face:\n",
    "    def __init__(self, point1, point2, point3):\n",
    "        self._point1 = point1\n",
    "        self._point2 = point2\n",
    "        self._point3 = point3\n",
    "        self._hashcode = hash((point1, point2, point3))\n",
    "\n",
    "    def get_points(self):\n",
    "        return [self._point1, self._point2, self._point3]\n",
    "\n",
    "    def get_edges(self):\n",
    "        return [Edge(self._point1, self._point2), Edge(self._point1, self._point3), Edge(self._point2, self._point3)]\n",
    "\n",
    "    def __hash__(self):\n",
    "        return self._hashcode"
   ]
  },
  {
   "cell_type": "code",
   "execution_count": 8,
   "metadata": {
    "collapsed": true
   },
   "outputs": [],
   "source": [
    "class Solid:\n",
    "    def __init__(self, faces):\n",
    "        self._faces = faces\n",
    "        self._hashcode = hash(tuple(faces))\n",
    "\n",
    "    def get_faces(self):\n",
    "        return self._faces\n",
    "\n",
    "    def __hash__(self):\n",
    "        return self._hashcode\n",
    "\n",
    "\n",
    "class BoundingBox:\n",
    "    def __init__(self, minx, maxx, miny, maxy, minz, maxz):\n",
    "        self._min_x = minx\n",
    "        self._max_x = maxx\n",
    "        self._min_y = miny\n",
    "        self._max_y = maxy\n",
    "        self._min_z = minz\n",
    "        self._max_z = maxz"
   ]
  },
  {
   "cell_type": "code",
   "execution_count": 3,
   "metadata": {
    "collapsed": true
   },
   "outputs": [],
   "source": [
    "def compute_plane_equation(face):\n",
    "    alpha = Symbol('alpha')\n",
    "    beta = Symbol('beta')\n",
    "    gamma = Symbol('gamma')\n",
    "    delta = Symbol('delta')\n",
    "\n",
    "    system = []\n",
    "    for face_point in face.get_points():\n",
    "        x, y, z = face_point.get_coordinates()\n",
    "        equation = x * alpha + y * beta + z * gamma + delta\n",
    "        system.append(equation)\n",
    "\n",
    "    constraint_equation = alpha ** 2 + beta ** 2 + gamma ** 2 - 1\n",
    "    system.append(constraint_equation)\n",
    "    plane = solve(system, alpha, beta, gamma, delta)[0]\n",
    "    return tuple(map(lambda number: number.evalf(), plane))"
   ]
  },
  {
   "cell_type": "code",
   "execution_count": 4,
   "metadata": {
    "collapsed": true
   },
   "outputs": [],
   "source": [
    "def load_solid(file_name):\n",
    "    points = []\n",
    "\n",
    "    with open(file_name, \"r\", encoding=\"utf-8\") as solid_file:\n",
    "        for line in solid_file:\n",
    "            if len(line.strip()) == 0:\n",
    "                continue\n",
    "            else:\n",
    "                x, y, z = tuple(map(lambda num: float(num.strip()), line.split(\";\")))\n",
    "                points.append(Point(x, y, z))\n",
    "    if len(points) % 3 != 0:\n",
    "        raise Exception\n",
    "    else:\n",
    "        def chunks(l, n):\n",
    "            for i in range(0, len(l), n):\n",
    "                yield tuple(l[i:i + n])\n",
    "        points_per_face = list(chunks(points, 3))\n",
    "        faces = []\n",
    "        for points in points_per_face:\n",
    "            p1, p2, p3 = points\n",
    "            face = Face(p1, p2, p3)\n",
    "            faces.append(face)\n",
    "        return Solid(faces)"
   ]
  },
  {
   "cell_type": "code",
   "execution_count": 5,
   "metadata": {
    "collapsed": true
   },
   "outputs": [],
   "source": [
    "def create_bounding_box(solid):\n",
    "    min_x = min(map(lambda face: min(map(lambda point: point.x(), face.get_points())), solid.get_faces()))\n",
    "    min_y = min(map(lambda face: min(map(lambda point: point.y(), face.get_points())), solid.get_faces()))\n",
    "    min_z = min(map(lambda face: min(map(lambda point: point.z(), face.get_points())), solid.get_faces()))\n",
    "\n",
    "    max_x = max(map(lambda face: max(map(lambda point: point.x(), face.get_points())), solid.get_faces()))\n",
    "    max_y = max(map(lambda face: max(map(lambda point: point.y(), face.get_points())), solid.get_faces()))\n",
    "    max_z = max(map(lambda face: max(map(lambda point: point.z(), face.get_points())), solid.get_faces()))\n",
    "\n",
    "    return BoundingBox(min_x, max_x, min_y, max_y, min_z, max_z)"
   ]
  },
  {
   "cell_type": "code",
   "execution_count": 6,
   "metadata": {
    "collapsed": true
   },
   "outputs": [],
   "source": [
    "def distance_between_solids(solid1, solid2):\n",
    "    cpus = cpu_count() + 1\n",
    "\n",
    "    with Pool(processes=cpus) as worker:\n",
    "        tasks = []\n",
    "        for face1 in solid1.get_faces():\n",
    "            task1 = worker.apply_async(distance_between_face_and_solid, (face1, solid2))\n",
    "            tasks.append(task1)\n",
    "\n",
    "        return min(map(lambda task: task.get(), tasks))"
   ]
  },
  {
   "cell_type": "code",
   "execution_count": 7,
   "metadata": {
    "collapsed": true
   },
   "outputs": [],
   "source": [
    "def distance_between_face_and_solid(face, solid):\n",
    "    return min(map(lambda face1: distance_between_faces(face, face1), solid.get_faces()))"
   ]
  },
  {
   "cell_type": "code",
   "execution_count": 14,
   "metadata": {},
   "outputs": [],
   "source": [
    "@lru_cache(maxsize=CACHE_SIZE)\n",
    "def distance_between_faces(face1, face2):\n",
    "    distances = []\n",
    "\n",
    "    for face_edge in face1.get_edges():\n",
    "        distances.append(distance_between_face_and_edge(face2, face_edge))\n",
    "\n",
    "    for face_edge in face2.get_edges():\n",
    "        distances.append(distance_between_face_and_edge(face1, face_edge))\n",
    "\n",
    "    min_distance = min(distances)\n",
    "    return min_distance\n",
    "\n",
    "@lru_cache(maxsize=CACHE_SIZE)\n",
    "def distance_between_face_and_edge(face, edge):\n",
    "    distances = []\n",
    "\n",
    "    edge_points = edge.get_points()\n",
    "    for edge_point in edge_points:\n",
    "        distance = distance_between_face_and_point(face, edge_point)\n",
    "        distances.append(distance)\n",
    "\n",
    "    face_edges = face.get_edges()\n",
    "    for face_edge in face_edges:\n",
    "        distance = distance_between_edges(face_edge, edge)\n",
    "        distances.append(distance)\n",
    "\n",
    "    min_distance = min(distances)\n",
    "    return min_distance\n",
    "\n",
    "@lru_cache(maxsize=CACHE_SIZE)\n",
    "def distance_between_edges(edge1, edge2):\n",
    "    vector_u = np.asarray(edge1.get_points()[1].get_coordinates()) - np.asarray(edge1.get_points()[0].get_coordinates())\n",
    "    vector_v = np.asarray(edge2.get_points()[1].get_coordinates()) - np.asarray(edge2.get_points()[0].get_coordinates())\n",
    "    vector_w = np.asarray(edge1.get_points()[0].get_coordinates()) - np.asarray(edge2.get_points()[0].get_coordinates())\n",
    "    a = np.dot(vector_u, vector_u)\n",
    "    b = np.dot(vector_u, vector_v)\n",
    "    c = np.dot(vector_v, vector_v)\n",
    "    d = np.dot(vector_u, vector_w)\n",
    "    e = np.dot(vector_v, vector_w)\n",
    "    D = a * c - b * b\n",
    "    sc, sN, sD = D, D, D\n",
    "    tc, tN, tD = D, D, D\n",
    "\n",
    "    if D < PARALLEL_TOLERANCE:\n",
    "        sN = 0\n",
    "        sD = 1\n",
    "        tN = e\n",
    "        tD = c\n",
    "    else:\n",
    "        sN = b * e - c * d\n",
    "        tN = a * e - b * d\n",
    "        if sN < 0:\n",
    "            sN = 0\n",
    "            tN = e\n",
    "            tD = c\n",
    "        elif sN > sD:\n",
    "            sN = sD\n",
    "            tN = e + b\n",
    "            tD = c\n",
    "\n",
    "    if tN < 0:\n",
    "        tN = 0\n",
    "        if -d < 0:\n",
    "            sN = 0\n",
    "        elif -d > a:\n",
    "            sN = sD\n",
    "        else:\n",
    "            sN = -d\n",
    "            sD = a\n",
    "    elif tN > tD:\n",
    "        tN = tD\n",
    "        if -d + b < 0:\n",
    "            sN = 0\n",
    "        elif -d + b > a:\n",
    "            sN = sD\n",
    "        else:\n",
    "            sN = -d + b\n",
    "            sD = a\n",
    "\n",
    "    sc = 0 if math.fabs(sN) < PARALLEL_TOLERANCE else sN / sD\n",
    "    tc = 0 if math.fabs(tN) < PARALLEL_TOLERANCE else tN / tD\n",
    "\n",
    "    vector_dp = vector_w + (sc * vector_u) - (tc * vector_v)\n",
    "    distance = math.sqrt(np.dot(vector_dp, vector_dp))\n",
    "    return distance\n",
    "\n",
    "@lru_cache(maxsize=CACHE_SIZE)\n",
    "def distance_between_edge_and_point(edge, point):\n",
    "    point1, point2 = tuple(edge.get_points())\n",
    "    v_vector = np.asarray(point2.get_coordinates()) - np.asarray(point1.get_coordinates())\n",
    "    w_vector = np.asarray(point.get_coordinates()) - np.asarray(point1.get_coordinates())\n",
    "\n",
    "    c1 = np.dot(w_vector, v_vector)\n",
    "    if c1 <= 0:\n",
    "        return distance_between_points(point, point1)\n",
    "\n",
    "    c2 = np.dot(v_vector, v_vector)\n",
    "    if c2 <= c1:\n",
    "        return distance_between_points(point, point2)\n",
    "\n",
    "    b = c1 / c2\n",
    "    nearest_point_coords = np.asarray(point1.get_coordinates()) + b * v_vector\n",
    "    nearest_point = Point(nearest_point_coords[0], nearest_point_coords[1], nearest_point_coords[2])\n",
    "    return distance_between_points(point, nearest_point)\n",
    "\n",
    "@lru_cache(maxsize=CACHE_SIZE)\n",
    "def distance_between_faces_solver(face1, face2):\n",
    "    alpha1, beta1, gamma1, delta1 = compute_plane_equation(face1)\n",
    "    alpha2, beta2, gamma2, delta2 = compute_plane_equation(face2)\n",
    "    start1 = face1.get_points()[0]\n",
    "    start2 = face2.get_points()[0]\n",
    "    x1, y1, z1 = start1.get_coordinates()\n",
    "    x2, y2, z2 = start2.get_coordinates()\n",
    "    initial_guess = np.asarray([x1, y1, z1, x2, y2, z2])\n",
    "    optimized_function = lambda g: (g[0] - g[3]) ** 2 + (g[1] - g[4]) ** 2 + (g[2] - g[5]) ** 2\n",
    "\n",
    "    min_x1 = min(map(lambda point: point.get_coordinates()[0], face1.get_points()))\n",
    "    min_x2 = min(map(lambda point: point.get_coordinates()[0], face2.get_points()))\n",
    "\n",
    "    max_x1 = max(map(lambda point: point.get_coordinates()[0], face1.get_points()))\n",
    "    max_x2 = max(map(lambda point: point.get_coordinates()[0], face2.get_points()))\n",
    "\n",
    "    min_y1 = min(map(lambda point: point.get_coordinates()[1], face1.get_points()))\n",
    "    min_y2 = min(map(lambda point: point.get_coordinates()[1], face2.get_points()))\n",
    "\n",
    "    max_y1 = max(map(lambda point: point.get_coordinates()[1], face1.get_points()))\n",
    "    max_y2 = max(map(lambda point: point.get_coordinates()[1], face2.get_points()))\n",
    "\n",
    "    min_z1 = min(map(lambda point: point.get_coordinates()[2], face1.get_points()))\n",
    "    min_z2 = min(map(lambda point: point.get_coordinates()[2], face2.get_points()))\n",
    "\n",
    "    max_z1 = max(map(lambda point: point.get_coordinates()[2], face1.get_points()))\n",
    "    max_z2 = max(map(lambda point: point.get_coordinates()[2], face2.get_points()))\n",
    "\n",
    "    bounds = ((min_x1, max_x1), (min_y1, max_y1), (min_z1, max_z1),\n",
    "              (min_x2, max_x2), (min_y2, max_y2), (min_z2, max_z2))\n",
    "\n",
    "    plane1_constraint = lambda g: g[0] * alpha1 + g[1] * beta1 + g[2] + gamma1 + delta1\n",
    "    plane2_constraint = lambda g: g[3] * alpha2 + g[4] * beta2 + g[5] + gamma2 + delta2\n",
    "    constraints = {'type': 'eq', 'fun': plane1_constraint}, {'type': 'eq', 'fun': plane2_constraint}\n",
    "    result = minimize(optimized_function, initial_guess, method=\"SLSQP\", bounds=bounds, constraints=constraints,\n",
    "                      options={'maxiter': 500000, 'eps': 1e-30, 'ftol': 1e-30})\n",
    "    return math.sqrt(result.fun)\n",
    "\n",
    "@lru_cache(maxsize=CACHE_SIZE)\n",
    "def distance_between_points(point1, point2):\n",
    "    coordinates1 = np.asarray(point1.get_coordinates())\n",
    "    coordinates2 = np.asarray(point2.get_coordinates())\n",
    "    squared_distance = np.sum((coordinates1 - coordinates2) ** 2)\n",
    "    distance = math.sqrt(squared_distance)\n",
    "    return distance"
   ]
  },
  {
   "cell_type": "code",
   "execution_count": 17,
   "metadata": {
    "collapsed": true
   },
   "outputs": [],
   "source": [
    "@lru_cache(maxsize=CACHE_SIZE)\n",
    "def distance_between_face_and_point(face, point):\n",
    "    alpha1, beta1, gamma1, delta1 = compute_plane_equation(face)\n",
    "    start1 = face.get_points()[0]\n",
    "    x1, y1, z1 = start1.get_coordinates()\n",
    "    initial_guess = np.asarray([x1, y1, z1])\n",
    "    optimized_function = lambda g: (g[0] - point.x()) ** 2 + (g[1] - point.y()) ** 2 + (g[2] - point.z()) ** 2\n",
    "\n",
    "    min_x1 = min(map(lambda point: point.get_coordinates()[0], face.get_points()))\n",
    "\n",
    "    max_x1 = max(map(lambda point: point.get_coordinates()[0], face.get_points()))\n",
    "\n",
    "    min_y1 = min(map(lambda point: point.get_coordinates()[1], face.get_points()))\n",
    "\n",
    "    max_y1 = max(map(lambda point: point.get_coordinates()[1], face.get_points()))\n",
    "\n",
    "    min_z1 = min(map(lambda point: point.get_coordinates()[2], face.get_points()))\n",
    "\n",
    "    max_z1 = max(map(lambda point: point.get_coordinates()[2], face.get_points()))\n",
    "\n",
    "    bounds = ((min_x1, max_x1), (min_y1, max_y1), (min_z1, max_z1))\n",
    "    plane1_constraint = lambda g: g[0] * alpha1 + g[1] * beta1 + g[2] + gamma1 + delta1\n",
    "    constraints = {'type': 'eq', 'fun': plane1_constraint}\n",
    "    result = minimize(optimized_function, initial_guess, method=\"SLSQP\", bounds=bounds, constraints=constraints,\n",
    "                      options={'maxiter': 5000, 'eps': 1e-20, 'ftol': 1e-20})\n",
    "    return math.sqrt(result.fun)"
   ]
  },
  {
   "cell_type": "code",
   "execution_count": 20,
   "metadata": {},
   "outputs": [
    {
     "name": "stderr",
     "output_type": "stream",
     "text": [
      "Process ForkPoolWorker-1:\n",
      "Process ForkPoolWorker-3:\n",
      "Process ForkPoolWorker-4:\n",
      "Process ForkPoolWorker-2:\n",
      "Process ForkPoolWorker-5:\n",
      "Traceback (most recent call last):\n",
      "Traceback (most recent call last):\n"
     ]
    },
    {
     "ename": "KeyboardInterrupt",
     "evalue": "",
     "output_type": "error",
     "traceback": [
      "\u001b[0;31m---------------------------------------------------------------------------\u001b[0m",
      "\u001b[0;31mKeyboardInterrupt\u001b[0m                         Traceback (most recent call last)",
      "\u001b[0;32m<ipython-input-20-a5b686a39cbf>\u001b[0m in \u001b[0;36m<module>\u001b[0;34m()\u001b[0m\n\u001b[1;32m      2\u001b[0m \u001b[0msolid2\u001b[0m \u001b[0;34m=\u001b[0m \u001b[0mload_solid\u001b[0m\u001b[0;34m(\u001b[0m\u001b[0;34m\"solid_data_2\"\u001b[0m\u001b[0;34m)\u001b[0m\u001b[0;34m\u001b[0m\u001b[0m\n\u001b[1;32m      3\u001b[0m \u001b[0mstart_time_solid\u001b[0m \u001b[0;34m=\u001b[0m \u001b[0mtimeit\u001b[0m\u001b[0;34m.\u001b[0m\u001b[0mdefault_timer\u001b[0m\u001b[0;34m(\u001b[0m\u001b[0;34m)\u001b[0m\u001b[0;34m\u001b[0m\u001b[0m\n\u001b[0;32m----> 4\u001b[0;31m \u001b[0mdistance_solid\u001b[0m \u001b[0;34m=\u001b[0m \u001b[0mdistance_between_solids\u001b[0m\u001b[0;34m(\u001b[0m\u001b[0msolid2\u001b[0m\u001b[0;34m,\u001b[0m \u001b[0msolid1\u001b[0m\u001b[0;34m)\u001b[0m\u001b[0;34m\u001b[0m\u001b[0m\n\u001b[0m\u001b[1;32m      5\u001b[0m \u001b[0melapsed_time_solid\u001b[0m \u001b[0;34m=\u001b[0m \u001b[0mtimeit\u001b[0m\u001b[0;34m.\u001b[0m\u001b[0mdefault_timer\u001b[0m\u001b[0;34m(\u001b[0m\u001b[0;34m)\u001b[0m \u001b[0;34m-\u001b[0m \u001b[0mstart_time_solid\u001b[0m\u001b[0;34m\u001b[0m\u001b[0m\n\u001b[1;32m      6\u001b[0m \u001b[0mprint\u001b[0m\u001b[0;34m(\u001b[0m\u001b[0;34m\"Distance between solids: \"\u001b[0m\u001b[0;34m,\u001b[0m \u001b[0mdistance_solid\u001b[0m\u001b[0;34m)\u001b[0m\u001b[0;34m\u001b[0m\u001b[0m\n",
      "\u001b[0;32m<ipython-input-6-42de1690392f>\u001b[0m in \u001b[0;36mdistance_between_solids\u001b[0;34m(solid1, solid2)\u001b[0m\n\u001b[1;32m      8\u001b[0m             \u001b[0mtasks\u001b[0m\u001b[0;34m.\u001b[0m\u001b[0mappend\u001b[0m\u001b[0;34m(\u001b[0m\u001b[0mtask1\u001b[0m\u001b[0;34m)\u001b[0m\u001b[0;34m\u001b[0m\u001b[0m\n\u001b[1;32m      9\u001b[0m \u001b[0;34m\u001b[0m\u001b[0m\n\u001b[0;32m---> 10\u001b[0;31m         \u001b[0;32mreturn\u001b[0m \u001b[0mmin\u001b[0m\u001b[0;34m(\u001b[0m\u001b[0mmap\u001b[0m\u001b[0;34m(\u001b[0m\u001b[0;32mlambda\u001b[0m \u001b[0mtask\u001b[0m\u001b[0;34m:\u001b[0m \u001b[0mtask\u001b[0m\u001b[0;34m.\u001b[0m\u001b[0mget\u001b[0m\u001b[0;34m(\u001b[0m\u001b[0;34m)\u001b[0m\u001b[0;34m,\u001b[0m \u001b[0mtasks\u001b[0m\u001b[0;34m)\u001b[0m\u001b[0;34m)\u001b[0m\u001b[0;34m\u001b[0m\u001b[0m\n\u001b[0m",
      "\u001b[0;32m<ipython-input-6-42de1690392f>\u001b[0m in \u001b[0;36m<lambda>\u001b[0;34m(task)\u001b[0m\n\u001b[1;32m      8\u001b[0m             \u001b[0mtasks\u001b[0m\u001b[0;34m.\u001b[0m\u001b[0mappend\u001b[0m\u001b[0;34m(\u001b[0m\u001b[0mtask1\u001b[0m\u001b[0;34m)\u001b[0m\u001b[0;34m\u001b[0m\u001b[0m\n\u001b[1;32m      9\u001b[0m \u001b[0;34m\u001b[0m\u001b[0m\n\u001b[0;32m---> 10\u001b[0;31m         \u001b[0;32mreturn\u001b[0m \u001b[0mmin\u001b[0m\u001b[0;34m(\u001b[0m\u001b[0mmap\u001b[0m\u001b[0;34m(\u001b[0m\u001b[0;32mlambda\u001b[0m \u001b[0mtask\u001b[0m\u001b[0;34m:\u001b[0m \u001b[0mtask\u001b[0m\u001b[0;34m.\u001b[0m\u001b[0mget\u001b[0m\u001b[0;34m(\u001b[0m\u001b[0;34m)\u001b[0m\u001b[0;34m,\u001b[0m \u001b[0mtasks\u001b[0m\u001b[0;34m)\u001b[0m\u001b[0;34m)\u001b[0m\u001b[0;34m\u001b[0m\u001b[0m\n\u001b[0m",
      "\u001b[0;32m/Applications/anaconda/lib/python3.6/multiprocessing/pool.py\u001b[0m in \u001b[0;36mget\u001b[0;34m(self, timeout)\u001b[0m\n\u001b[1;32m    600\u001b[0m \u001b[0;34m\u001b[0m\u001b[0m\n\u001b[1;32m    601\u001b[0m     \u001b[0;32mdef\u001b[0m \u001b[0mget\u001b[0m\u001b[0;34m(\u001b[0m\u001b[0mself\u001b[0m\u001b[0;34m,\u001b[0m \u001b[0mtimeout\u001b[0m\u001b[0;34m=\u001b[0m\u001b[0;32mNone\u001b[0m\u001b[0;34m)\u001b[0m\u001b[0;34m:\u001b[0m\u001b[0;34m\u001b[0m\u001b[0m\n\u001b[0;32m--> 602\u001b[0;31m         \u001b[0mself\u001b[0m\u001b[0;34m.\u001b[0m\u001b[0mwait\u001b[0m\u001b[0;34m(\u001b[0m\u001b[0mtimeout\u001b[0m\u001b[0;34m)\u001b[0m\u001b[0;34m\u001b[0m\u001b[0m\n\u001b[0m\u001b[1;32m    603\u001b[0m         \u001b[0;32mif\u001b[0m \u001b[0;32mnot\u001b[0m \u001b[0mself\u001b[0m\u001b[0;34m.\u001b[0m\u001b[0mready\u001b[0m\u001b[0;34m(\u001b[0m\u001b[0;34m)\u001b[0m\u001b[0;34m:\u001b[0m\u001b[0;34m\u001b[0m\u001b[0m\n\u001b[1;32m    604\u001b[0m             \u001b[0;32mraise\u001b[0m \u001b[0mTimeoutError\u001b[0m\u001b[0;34m\u001b[0m\u001b[0m\n",
      "\u001b[0;32m/Applications/anaconda/lib/python3.6/multiprocessing/pool.py\u001b[0m in \u001b[0;36mwait\u001b[0;34m(self, timeout)\u001b[0m\n\u001b[1;32m    597\u001b[0m \u001b[0;34m\u001b[0m\u001b[0m\n\u001b[1;32m    598\u001b[0m     \u001b[0;32mdef\u001b[0m \u001b[0mwait\u001b[0m\u001b[0;34m(\u001b[0m\u001b[0mself\u001b[0m\u001b[0;34m,\u001b[0m \u001b[0mtimeout\u001b[0m\u001b[0;34m=\u001b[0m\u001b[0;32mNone\u001b[0m\u001b[0;34m)\u001b[0m\u001b[0;34m:\u001b[0m\u001b[0;34m\u001b[0m\u001b[0m\n\u001b[0;32m--> 599\u001b[0;31m         \u001b[0mself\u001b[0m\u001b[0;34m.\u001b[0m\u001b[0m_event\u001b[0m\u001b[0;34m.\u001b[0m\u001b[0mwait\u001b[0m\u001b[0;34m(\u001b[0m\u001b[0mtimeout\u001b[0m\u001b[0;34m)\u001b[0m\u001b[0;34m\u001b[0m\u001b[0m\n\u001b[0m\u001b[1;32m    600\u001b[0m \u001b[0;34m\u001b[0m\u001b[0m\n\u001b[1;32m    601\u001b[0m     \u001b[0;32mdef\u001b[0m \u001b[0mget\u001b[0m\u001b[0;34m(\u001b[0m\u001b[0mself\u001b[0m\u001b[0;34m,\u001b[0m \u001b[0mtimeout\u001b[0m\u001b[0;34m=\u001b[0m\u001b[0;32mNone\u001b[0m\u001b[0;34m)\u001b[0m\u001b[0;34m:\u001b[0m\u001b[0;34m\u001b[0m\u001b[0m\n",
      "\u001b[0;32m/Applications/anaconda/lib/python3.6/threading.py\u001b[0m in \u001b[0;36mwait\u001b[0;34m(self, timeout)\u001b[0m\n\u001b[1;32m    549\u001b[0m             \u001b[0msignaled\u001b[0m \u001b[0;34m=\u001b[0m \u001b[0mself\u001b[0m\u001b[0;34m.\u001b[0m\u001b[0m_flag\u001b[0m\u001b[0;34m\u001b[0m\u001b[0m\n\u001b[1;32m    550\u001b[0m             \u001b[0;32mif\u001b[0m \u001b[0;32mnot\u001b[0m \u001b[0msignaled\u001b[0m\u001b[0;34m:\u001b[0m\u001b[0;34m\u001b[0m\u001b[0m\n\u001b[0;32m--> 551\u001b[0;31m                 \u001b[0msignaled\u001b[0m \u001b[0;34m=\u001b[0m \u001b[0mself\u001b[0m\u001b[0;34m.\u001b[0m\u001b[0m_cond\u001b[0m\u001b[0;34m.\u001b[0m\u001b[0mwait\u001b[0m\u001b[0;34m(\u001b[0m\u001b[0mtimeout\u001b[0m\u001b[0;34m)\u001b[0m\u001b[0;34m\u001b[0m\u001b[0m\n\u001b[0m\u001b[1;32m    552\u001b[0m             \u001b[0;32mreturn\u001b[0m \u001b[0msignaled\u001b[0m\u001b[0;34m\u001b[0m\u001b[0m\n\u001b[1;32m    553\u001b[0m \u001b[0;34m\u001b[0m\u001b[0m\n",
      "\u001b[0;32m/Applications/anaconda/lib/python3.6/threading.py\u001b[0m in \u001b[0;36mwait\u001b[0;34m(self, timeout)\u001b[0m\n\u001b[1;32m    293\u001b[0m         \u001b[0;32mtry\u001b[0m\u001b[0;34m:\u001b[0m    \u001b[0;31m# restore state no matter what (e.g., KeyboardInterrupt)\u001b[0m\u001b[0;34m\u001b[0m\u001b[0m\n\u001b[1;32m    294\u001b[0m             \u001b[0;32mif\u001b[0m \u001b[0mtimeout\u001b[0m \u001b[0;32mis\u001b[0m \u001b[0;32mNone\u001b[0m\u001b[0;34m:\u001b[0m\u001b[0;34m\u001b[0m\u001b[0m\n\u001b[0;32m--> 295\u001b[0;31m                 \u001b[0mwaiter\u001b[0m\u001b[0;34m.\u001b[0m\u001b[0macquire\u001b[0m\u001b[0;34m(\u001b[0m\u001b[0;34m)\u001b[0m\u001b[0;34m\u001b[0m\u001b[0m\n\u001b[0m\u001b[1;32m    296\u001b[0m                 \u001b[0mgotit\u001b[0m \u001b[0;34m=\u001b[0m \u001b[0;32mTrue\u001b[0m\u001b[0;34m\u001b[0m\u001b[0m\n\u001b[1;32m    297\u001b[0m             \u001b[0;32melse\u001b[0m\u001b[0;34m:\u001b[0m\u001b[0;34m\u001b[0m\u001b[0m\n",
      "\u001b[0;31mKeyboardInterrupt\u001b[0m: "
     ]
    }
   ],
   "source": [
    "solid1 = load_solid(\"solid_data_1\")\n",
    "solid2 = load_solid(\"solid_data_2\")\n",
    "start_time_solid = timeit.default_timer()\n",
    "distance_solid = distance_between_solids(solid2, solid1)\n",
    "elapsed_time_solid = timeit.default_timer() - start_time_solid\n",
    "print(\"Distance between solids: \", distance_solid)\n",
    "print(\"Tme used to calculate: \", elapsed_time_solid)"
   ]
  },
  {
   "cell_type": "code",
   "execution_count": null,
   "metadata": {
    "collapsed": true
   },
   "outputs": [],
   "source": []
  }
 ],
 "metadata": {
  "kernelspec": {
   "display_name": "Python 3",
   "language": "python",
   "name": "python3"
  },
  "language_info": {
   "codemirror_mode": {
    "name": "ipython",
    "version": 3
   },
   "file_extension": ".py",
   "mimetype": "text/x-python",
   "name": "python",
   "nbconvert_exporter": "python",
   "pygments_lexer": "ipython3",
   "version": "3.6.1"
  }
 },
 "nbformat": 4,
 "nbformat_minor": 2
}
