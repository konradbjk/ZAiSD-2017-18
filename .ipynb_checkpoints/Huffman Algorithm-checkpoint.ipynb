{
 "cells": [
  {
   "cell_type": "markdown",
   "metadata": {},
   "source": [
    "# Huffman algorithm"
   ]
  },
  {
   "cell_type": "markdown",
   "metadata": {},
   "source": []
  },
  {
   "cell_type": "code",
   "execution_count": 1,
   "metadata": {
    "collapsed": true
   },
   "outputs": [],
   "source": [
    "__author__ = \"Konrad Bujak\""
   ]
  },
  {
   "cell_type": "code",
   "execution_count": 13,
   "metadata": {
    "collapsed": true
   },
   "outputs": [],
   "source": [
    "\n",
    "import heapq\n",
    "import os\n",
    "from functools import total_ordering\n",
    "\n",
    "\n",
    "@total_ordering\n",
    "class HeapNode:\n",
    "    def __init__(self, char, freq):\n",
    "        self.char = char\n",
    "        self.freq = freq\n",
    "        self.left = None\n",
    "        self.right = None\n",
    "\n",
    "    # defining comparators less_than and equals\n",
    "    def __lt__(self, other):\n",
    "        return self.freq < other.freq\n",
    "\n",
    "    def __eq__(self, other):\n",
    "        if(other == None):\n",
    "            return False\n",
    "        if(not isinstance(other, HeapNode)):\n",
    "            return False\n",
    "        return self.freq == other.freq\n",
    "\n",
    "\n",
    "class HuffmanCoding:\n",
    "    def __init__(self, path):\n",
    "        self.path = path\n",
    "        self.heap = []\n",
    "        self.codes = {}\n",
    "        self.reverse_mapping = {}\n",
    "\n",
    "    # functions for compression:\n",
    "\n",
    "    def make_frequency_dict(self, text):\n",
    "        frequency = {}\n",
    "        for character in text:\n",
    "            if not character in frequency:\n",
    "                frequency[character] = 0\n",
    "                frequency[character] += 1\n",
    "        return frequency\n",
    "\n",
    "    def make_heap(self, frequency):\n",
    "        for key in frequency:\n",
    "            node = HeapNode(key, frequency[key])\n",
    "            heapq.heappush(self.heap, node)\n",
    "\n",
    "    def merge_nodes(self):\n",
    "        while(len(self.heap)>1):\n",
    "            node1 = heapq.heappop(self.heap)\n",
    "            node2 = heapq.heappop(self.heap)\n",
    "\n",
    "            merged = HeapNode(None, node1.freq + node2.freq)\n",
    "            merged.left = node1\n",
    "            merged.right = node2\n",
    "\n",
    "            heapq.heappush(self.heap, merged)\n",
    "\n",
    "\n",
    "    def make_codes_helper(self, root, current_code):\n",
    "        if(root == None):\n",
    "            return\n",
    "\n",
    "    if(root.char != None):\n",
    "            self.codes[root.char] = current_code\n",
    "            self.reverse_mapping[current_code] = root.char\n",
    "            return\n",
    "\n",
    "        self.make_codes_helper(root.left, current_code + \"0\")\n",
    "        self.make_codes_helper(root.right, current_code + \"1\")\n",
    "\n",
    "\n",
    "    def make_codes(self):\n",
    "        root = heapq.heappop(self.heap)\n",
    "        current_code = \"\"\n",
    "        self.make_codes_helper(root, current_code)\n",
    "\n",
    "\n",
    "    def get_encoded_text(self, text):\n",
    "        encoded_text = \"\"\n",
    "        for character in text:\n",
    "            encoded_text += self.codes[character]\n",
    "        return encoded_text\n",
    "\n",
    "\n",
    "    def pad_encoded_text(self, encoded_text):\n",
    "        extra_padding = 8 - len(encoded_text) % 8\n",
    "        for i in range(extra_padding):\n",
    "            encoded_text += \"0\"\n",
    "\n",
    "        padded_info = \"{0:08b}\".format(extra_padding)\n",
    "        encoded_text = padded_info + encoded_text\n",
    "        return encoded_text\n",
    "\n",
    "\n",
    "    def get_byte_array(self, padded_encoded_text):\n",
    "        if(len(padded_encoded_text) % 8 != 0):\n",
    "            print(\"Encoded text not padded properly\")\n",
    "            exit(0)\n",
    "\n",
    "        b = bytearray()\n",
    "        for i in range(0, len(padded_encoded_text), 8):\n",
    "            byte = padded_encoded_text[i:i+8]\n",
    "            b.append(int(byte, 2))\n",
    "        return b\n",
    "\n",
    "\n",
    "    def compress(self):\n",
    "        filename, file_extension = os.path.splitext(self.path)\n",
    "        output_path = filename + \".zip\"\n",
    "\n",
    "        with open(self.path, 'r+') as file, open(output_path, 'wb') as output:\n",
    "            text = file.read()\n",
    "            text = text.rstrip()\n",
    "\n",
    "            frequency = self.make_frequency_dict(text)\n",
    "            self.make_heap(frequency)\n",
    "            self.merge_nodes()\n",
    "            self.make_codes()\n",
    "\n",
    "            encoded_text = self.get_encoded_text(text)\n",
    "            padded_encoded_text = self.pad_encoded_text(encoded_text)\n",
    "\n",
    "            b = self.get_byte_array(padded_encoded_text)\n",
    "            output.write(bytes(b))\n",
    "\n",
    "        print(\"Compressed\")\n",
    "        return output_path\n",
    "\n",
    "\n",
    "    \"\"\" functions for decompression: \"\"\"\n",
    "\n",
    "\n",
    "    def remove_padding(self, padded_encoded_text):\n",
    "        padded_info = padded_encoded_text[:8]\n",
    "        extra_padding = int(padded_info, 2)\n",
    "\n",
    "        padded_encoded_text = padded_encoded_text[8:] \n",
    "        encoded_text = padded_encoded_text[:-1*extra_padding]\n",
    "\n",
    "        return encoded_text\n",
    "\n",
    "    def decode_text(self, encoded_text):\n",
    "        current_code = \"\"\n",
    "        decoded_text = \"\"\n",
    "\n",
    "        for bit in encoded_text:\n",
    "            current_code += bit\n",
    "            if(current_code in self.reverse_mapping):\n",
    "                character = self.reverse_mapping[current_code]\n",
    "                decoded_text += character\n",
    "                current_code = \"\"\n",
    "\n",
    "        return decoded_text\n",
    "\n",
    "\n",
    "    def decompress(self, input_path):\n",
    "        filename, file_extension = os.path.splitext(self.path)\n",
    "        output_path = filename + \"_decompressed\" + \".txt\"\n",
    "\n",
    "        with open(input_path, 'rb') as file, open(output_path, 'w') as output:\n",
    "            bit_string = \"\"\n",
    "\n",
    "            byte = file.read(1)\n",
    "            while(len(byte) > 0):\n",
    "                byte = ord(byte)\n",
    "                bits = bin(byte)[2:].rjust(8, '0')\n",
    "                bit_string += bits\n",
    "                byte = file.read(1)\n",
    "\n",
    "            encoded_text = self.remove_padding(bit_string)\n",
    "\n",
    "            decompressed_text = self.decode_text(encoded_text)\n",
    "            \n",
    "            output.write(decompressed_text)\n",
    "\n",
    "        print(\"Decompressed\")\n",
    "        return output_path"
   ]
  },
  {
   "cell_type": "code",
   "execution_count": 14,
   "metadata": {},
   "outputs": [
    {
     "name": "stdout",
     "output_type": "stream",
     "text": [
      "Compressed\n",
      "Compressed file path: huffman_text.zip\n",
      "Decompressed\n",
      "Decompressed file path: huffman_text_decompressed.txt\n"
     ]
    }
   ],
   "source": [
    "path = \"huffman_text.txt\"\n",
    "\n",
    "h = HuffmanCoding(path)\n",
    "\n",
    "output_path = h.compress()\n",
    "print(\"Compressed file path: \" + output_path)\n",
    "\n",
    "decom_path = h.decompress(output_path)\n",
    "print(\"Decompressed file path: \" + decom_path)\n"
   ]
  },
  {
   "cell_type": "code",
   "execution_count": 18,
   "metadata": {
    "collapsed": true
   },
   "outputs": [],
   "source": [
    "import collections\n",
    "import huffman"
   ]
  },
  {
   "cell_type": "code",
   "execution_count": 19,
   "metadata": {},
   "outputs": [
    {
     "data": {
      "text/plain": [
       "{'.': '1110',\n",
       " '_': '0100',\n",
       " 'a': '1111',\n",
       " 'e': '0111',\n",
       " 'f': '000',\n",
       " 'h': '1100',\n",
       " 'm': '0110',\n",
       " 'n': '0101',\n",
       " 't': '10',\n",
       " 'u': '1101',\n",
       " 'x': '001'}"
      ]
     },
     "execution_count": 19,
     "metadata": {},
     "output_type": "execute_result"
    }
   ],
   "source": [
    "huffman.codebook(collections.Counter(path).items())"
   ]
  },
  {
   "cell_type": "code",
   "execution_count": 20,
   "metadata": {
    "collapsed": true
   },
   "outputs": [],
   "source": [
    "import collections\n",
    "import string\n",
    "\n",
    "def count_letters(filename, case_sensitive=False):\n",
    "    with open(filename, 'r') as f:\n",
    "        original_text = f.read()\n",
    "    if case_sensitive:\n",
    "        alphabet = string.ascii_letters\n",
    "        text = original_text\n",
    "    else:\n",
    "        alphabet = string.ascii_lowercase\n",
    "        text = original_text.lower()\n",
    "    alphabet_set = set(alphabet)\n",
    "    counts = collections.Counter(c for c in text if c in alphabet_set)\n",
    "\n",
    "    for letter in alphabet:\n",
    "        print(letter, counts[letter])\n",
    "    print(\"total:\", sum(counts.values()))\n",
    "\n",
    "    return counts"
   ]
  },
  {
   "cell_type": "code",
   "execution_count": 21,
   "metadata": {},
   "outputs": [
    {
     "name": "stdout",
     "output_type": "stream",
     "text": [
      "a 8807\n",
      "b 1276\n",
      "c 3930\n",
      "d 3408\n",
      "e 11301\n",
      "f 936\n",
      "g 808\n",
      "h 837\n",
      "i 11904\n",
      "j 0\n",
      "k 1\n",
      "l 3141\n",
      "m 5455\n",
      "n 5901\n",
      "o 5455\n",
      "p 2905\n",
      "q 1574\n",
      "r 6259\n",
      "s 7570\n",
      "t 8822\n",
      "u 7131\n",
      "v 1587\n",
      "w 0\n",
      "x 535\n",
      "y 68\n",
      "z 1\n",
      "total: 99612\n"
     ]
    },
    {
     "data": {
      "text/plain": [
       "Counter({'a': 8807,\n",
       "         'b': 1276,\n",
       "         'c': 3930,\n",
       "         'd': 3408,\n",
       "         'e': 11301,\n",
       "         'f': 936,\n",
       "         'g': 808,\n",
       "         'h': 837,\n",
       "         'i': 11904,\n",
       "         'k': 1,\n",
       "         'l': 3141,\n",
       "         'm': 5455,\n",
       "         'n': 5901,\n",
       "         'o': 5455,\n",
       "         'p': 2905,\n",
       "         'q': 1574,\n",
       "         'r': 6259,\n",
       "         's': 7570,\n",
       "         't': 8822,\n",
       "         'u': 7131,\n",
       "         'v': 1587,\n",
       "         'x': 535,\n",
       "         'y': 68,\n",
       "         'z': 1})"
      ]
     },
     "execution_count": 21,
     "metadata": {},
     "output_type": "execute_result"
    }
   ],
   "source": [
    "count_letters(\"huffman_text.txt\")"
   ]
  },
  {
   "cell_type": "code",
   "execution_count": null,
   "metadata": {
    "collapsed": true
   },
   "outputs": [],
   "source": []
  }
 ],
 "metadata": {
  "kernelspec": {
   "display_name": "Python 3",
   "language": "python",
   "name": "python3"
  },
  "language_info": {
   "codemirror_mode": {
    "name": "ipython",
    "version": 3
   },
   "file_extension": ".py",
   "mimetype": "text/x-python",
   "name": "python",
   "nbconvert_exporter": "python",
   "pygments_lexer": "ipython3",
   "version": "3.6.1"
  }
 },
 "nbformat": 4,
 "nbformat_minor": 2
}
