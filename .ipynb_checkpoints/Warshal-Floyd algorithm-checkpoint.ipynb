{
 "cells": [
  {
   "cell_type": "markdown",
   "metadata": {},
   "source": [
    "# Warshal-Floyd algorithm"
   ]
  },
  {
   "cell_type": "markdown",
   "metadata": {},
   "source": [
    "In computer science, the Floyd–Warshall algorithm is an algorithm for finding shortest paths in a weighted graph with positive or negative edge weights (but with no negative cycles).[1][2] A single execution of the algorithm will find the lengths (summed weights) of the shortest paths between all pairs of vertices. Although it does not return details of the paths themselves, it is possible to reconstruct the paths with simple modifications to the algorithm. Versions of the algorithm can also be used for finding the transitive closure of a relation \n",
    "R\n",
    "R, or (in connection with the Schulze voting system) widest paths between all pairs of vertices in a weighted graph."
   ]
  },
  {
   "cell_type": "markdown",
   "metadata": {},
   "source": [
    "## Open the file"
   ]
  },
  {
   "cell_type": "code",
   "execution_count": 8,
   "metadata": {
    "collapsed": true
   },
   "outputs": [],
   "source": [
    "import math"
   ]
  },
  {
   "cell_type": "code",
   "execution_count": 4,
   "metadata": {
    "collapsed": true
   },
   "outputs": [],
   "source": [
    "def open_file(filepath):\n",
    "    '''Open the file with a given filepath and then line by line create nodes. Return the graph.'''\n",
    "    graph = {}\n",
    "    with open(filepath, \"r\", encoding=\"utf-8\") as input_file:\n",
    "        for line in input_file:\n",
    "            parts = line.strip().split(\";\")\n",
    "            from_node = int(parts[0])\n",
    "            to_node = int(parts[1])\n",
    "            weight = int(parts[2])\n",
    "            graph[(from_node, to_node)] = weight\n",
    "    return graph"
   ]
  },
  {
   "cell_type": "markdown",
   "metadata": {},
   "source": [
    "## Algorithm"
   ]
  },
  {
   "cell_type": "markdown",
   "metadata": {},
   "source": [
    "Unfortunately I could not make it this way"
   ]
  },
  {
   "cell_type": "code",
   "execution_count": 145,
   "metadata": {
    "collapsed": true
   },
   "outputs": [],
   "source": [
    "class FloydWarshall(object):\n",
    "\n",
    "    def __init__(self, file_):\n",
    "        nodes = file_.read().splitlines()\n",
    "        file_.close()\n",
    "        self.get_graph(nodes)\n",
    "        self.len_ = len(self.nodes)\n",
    "        self.create_fw_matrix()\n",
    "\n",
    "    def get_graph(self, nodes):\n",
    "        self.nodes = []\n",
    "        self.graph = {}\n",
    "        for node in nodes[1:]:\n",
    "            [k, v] = node.split()\n",
    "            if k in self.graph.keys():\n",
    "                self.graph[k].append(v)\n",
    "            else:\n",
    "                self.graph[k] = [v]\n",
    "                if k not in self.nodes:\n",
    "                    self.nodes.append(k)\n",
    "            if v not in self.nodes:\n",
    "                self.nodes.append(v)\n",
    "\n",
    "    def create_fw_matrix(self):\n",
    "        m = [[float('inf')] * self.len_ for i in range(self.len_)]\n",
    "        for i, x in enumerate(self.nodes):\n",
    "            for j, y in enumerate(self.nodes):\n",
    "                if x == y:\n",
    "                    m[i][j] = 0\n",
    "                else:\n",
    "                    if x in self.graph.keys() and y in self.graph[x]:\n",
    "                        m[i][j] = m[j][i] = 1\n",
    "        for k in range(self.len_):\n",
    "            for i in range(self.len_):\n",
    "                for j in range(self.len_):\n",
    "                    m[i][j] = min(m[i][j], m[i][k] + m[k][j])\n",
    "        self.matrix = m\n",
    "        \n",
    "    def print_matrix(self):\n",
    "        for row in self.matrix:\n",
    "            print (row)"
   ]
  },
  {
   "cell_type": "markdown",
   "metadata": {},
   "source": [
    "This one below is working"
   ]
  },
  {
   "cell_type": "code",
   "execution_count": 5,
   "metadata": {
    "collapsed": true
   },
   "outputs": [],
   "source": [
    "def floyd_warshall(graph):\n",
    "    edges = set(graph.keys())\n",
    "\n",
    "    distances = {}\n",
    "    precedessors = {}\n",
    "    nodes = set()\n",
    "    for x, y in edges:\n",
    "        if x not in distances:\n",
    "            distances[x] = {}\n",
    "        distances[x][y] = graph[(x, y)]\n",
    "        distances[x][x] = 0\n",
    "        if x not in precedessors:\n",
    "            precedessors[x] = {}\n",
    "        precedessors[x][y] = x\n",
    "        nodes.add(x)\n",
    "        nodes.add(y)\n",
    "\n",
    "    nodes = list(sorted(nodes))\n",
    "\n",
    "    for middle in nodes:\n",
    "        for start in nodes:\n",
    "\n",
    "            if middle not in distances[start]:\n",
    "                distances[start][middle] = math.inf\n",
    "\n",
    "            for end in nodes:\n",
    "                if end not in precedessors[middle]:\n",
    "                    precedessors[middle][end] = None\n",
    "\n",
    "                if end not in distances[start]:\n",
    "                    distances[start][end] = math.inf\n",
    "\n",
    "                if end not in distances[middle]:\n",
    "                    distances[middle][end] = math.inf\n",
    "\n",
    "                old_distance = distances[start][end]\n",
    "                new_distance = distances[start][middle] + distances[middle][end]\n",
    "\n",
    "                if old_distance > new_distance:\n",
    "                    distances[start][end] = new_distance\n",
    "                    precedessors[start][end] = precedessors[middle][end]\n",
    "\n",
    "    return distances, precedessors"
   ]
  },
  {
   "cell_type": "code",
   "execution_count": 9,
   "metadata": {},
   "outputs": [
    {
     "name": "stdout",
     "output_type": "stream",
     "text": [
      "Distance(1,20) = 151\n",
      "Path:\n",
      "6  ->  20\n",
      "3  ->  6\n",
      "2  ->  3\n",
      "1  ->  2\n"
     ]
    }
   ],
   "source": [
    "file_name = \"graf.txt\"\n",
    "data = open_file(file_name)\n",
    "d, p = floyd_warshall(data)\n",
    "print(\"Distance(1,20) =\", d[1][20])\n",
    "\n",
    "x = 20\n",
    "print(\"Path:\")\n",
    "while p[1][x] is not None:\n",
    "    prev_x = p[1][x]\n",
    "    print(prev_x, \" -> \", x)\n",
    "    x = prev_x"
   ]
  },
  {
   "cell_type": "code",
   "execution_count": null,
   "metadata": {
    "collapsed": true
   },
   "outputs": [],
   "source": []
  }
 ],
 "metadata": {
  "kernelspec": {
   "display_name": "Python 3",
   "language": "python",
   "name": "python3"
  },
  "language_info": {
   "codemirror_mode": {
    "name": "ipython",
    "version": 3
   },
   "file_extension": ".py",
   "mimetype": "text/x-python",
   "name": "python",
   "nbconvert_exporter": "python",
   "pygments_lexer": "ipython3",
   "version": "3.6.1"
  }
 },
 "nbformat": 4,
 "nbformat_minor": 2
}
